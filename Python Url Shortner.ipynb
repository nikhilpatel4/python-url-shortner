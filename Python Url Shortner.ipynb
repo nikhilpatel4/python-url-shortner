{
 "cells": [
  {
   "cell_type": "code",
   "execution_count": 6,
   "id": "189390c5",
   "metadata": {},
   "outputs": [
    {
     "name": "stdout",
     "output_type": "stream",
     "text": [
      "[!] Got access token: dd04720efc8ebdb6fd85d7853332412d1da46e8f\n"
     ]
    }
   ],
   "source": [
    "import requests\n",
    "\n",
    "#account credentials\n",
    "username = 'YOUR USERNAME'\n",
    "password = 'PASSWORD'\n",
    "\n",
    "# get the access token\n",
    "auth_res = requests.post(\"https://api-ssl.bitly.com/oauth/access_token\", auth=(username, password))\n",
    "if auth_res.status_code == 200:\n",
    "    # if response is OK, get the access token\n",
    "    access_token = auth_res.content.decode()\n",
    "    print(\"[!] Got access token:\", access_token)\n",
    "else:\n",
    "    print(\"[!] Cannot get access token, exiting...\")\n",
    "    exit()"
   ]
  },
  {
   "cell_type": "code",
   "execution_count": 7,
   "id": "f353cda8",
   "metadata": {},
   "outputs": [],
   "source": [
    "# construct the request headers with authorization\n",
    "headers = {\"Authorization\": f\"Bearer {access_token}\"}\n",
    "\n",
    "# get the group UID associated with our account\n",
    "groups_res = requests.get(\"https://api-ssl.bitly.com/v4/groups\", headers=headers)\n",
    "if groups_res.status_code == 200:\n",
    "    # if response is OK, get the GUID\n",
    "    groups_data = groups_res.json()['groups'][0]\n",
    "    guid = groups_data['guid']\n",
    "else:\n",
    "    print(\"[!] Cannot get GUID, exiting...\")\n",
    "    exit()"
   ]
  },
  {
   "cell_type": "code",
   "execution_count": 8,
   "id": "3197a07e",
   "metadata": {},
   "outputs": [
    {
     "name": "stdout",
     "output_type": "stream",
     "text": [
      "Shortened URL: https://bit.ly/3prfC4Z\n"
     ]
    }
   ],
   "source": [
    "# the URL you want to shorten\n",
    "url = \"https://www.nikhiltrickzone.blogspot.com\"\n",
    "# make the POST request to get shortened URL for `url`\n",
    "shorten_res = requests.post(\"https://api-ssl.bitly.com/v4/shorten\", json={\"group_guid\": guid, \"long_url\": url}, headers=headers)\n",
    "if shorten_res.status_code == 200:\n",
    "    # if response is OK, get the shortened URL\n",
    "    link = shorten_res.json().get(\"link\")\n",
    "    print(\"Shortened URL:\", link)"
   ]
  },
  {
   "cell_type": "code",
   "execution_count": null,
   "id": "796f14c8",
   "metadata": {},
   "outputs": [],
   "source": []
  }
 ],
 "metadata": {
  "kernelspec": {
   "display_name": "Python 3 (ipykernel)",
   "language": "python",
   "name": "python3"
  },
  "language_info": {
   "codemirror_mode": {
    "name": "ipython",
    "version": 3
   },
   "file_extension": ".py",
   "mimetype": "text/x-python",
   "name": "python",
   "nbconvert_exporter": "python",
   "pygments_lexer": "ipython3",
   "version": "3.9.12"
  }
 },
 "nbformat": 4,
 "nbformat_minor": 5
}
